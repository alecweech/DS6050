{
 "cells": [
  {
   "cell_type": "code",
   "execution_count": null,
   "metadata": {},
   "outputs": [],
   "source": [
    "# importing library\n",
    "include(\"src/GeneRBM.jl\") # RBM\n",
    "using PyPlot # matplotlib\n",
    "using Distributions\n",
    "using DelimitedFiles # readdlm"
   ]
  },
  {
   "cell_type": "code",
   "execution_count": null,
   "metadata": {},
   "outputs": [],
   "source": [
    "path_X = \"../1000G_real_genomes/\"\n",
    "X = readdlm(string(path_X,\"805_SNP_1000G_real.hapt\"))\n",
    "X = convert(Array{Float64,2},X[:,3:end])' # array start at 1\n",
    "\n",
    "Ns = size(X,2);\n",
    "Nv = size(X,1);\n",
    "# number of hidden nodes\n",
    "Nh = 50;"
   ]
  },
  {
   "cell_type": "code",
   "execution_count": null,
   "metadata": {},
   "outputs": [],
   "source": [
    "# for the rbm package, X should be Feat. X Samples, transpose can be obtained using X'\n",
    "rbm = RBM(Nv,Nh; sigma=0.00001);\n",
    "setPCD!(rbm);"
   ]
  },
  {
   "cell_type": "code",
   "execution_count": null,
   "metadata": {},
   "outputs": [],
   "source": [
    "# init the bias \"on the dataset\"\n",
    "initBiasFromSamples(rbm,X);"
   ]
  },
  {
   "cell_type": "code",
   "execution_count": null,
   "metadata": {},
   "outputs": [],
   "source": [
    "# Save scatter plot at after each epoch\n",
    "rbm.ctx[\"fnameParam\"] = \"Demo1kSig\"\n",
    "setSaveSc!(rbm,1)"
   ]
  },
  {
   "cell_type": "code",
   "execution_count": null,
   "metadata": {},
   "outputs": [],
   "source": [
    "t_max = 10 # number of MCMC iteration / mini-batches \\in [10,100]\n",
    "n_pcd = 500 # number of persistent chain \\in [50,1000]\n",
    "δt = 100 # frequence of showing information\n",
    "n_iter = 40 # number of iterations for the algorithm\n",
    "lr = 0.01 # learning rate\n",
    "# fit(rbm,X; lr=0.001, n_iter=1000, batch_size=32, t_max=10,n_pcd=50,δt=100) \n",
    "# fit(rbm,X; lr=0.001, n_iter=1000, batch_size=32, t_max=5,n_pcd=500,δt=100) \n",
    "fit(rbm,X; lr=lr, n_iter=n_iter, batch_size=32, t_max=t_max,n_pcd=n_pcd,δt=δt) "
   ]
  },
  {
   "cell_type": "code",
   "execution_count": null,
   "metadata": {},
   "outputs": [],
   "source": [
    "# plotting likelihood\n",
    "plt[:plot](rbm.fe_tr,label=\"Approx Likelihood1\")\n",
    "plt[:plot](rbm.pl_tr,label=\"Approx Likelihood2\")\n",
    "plt[:legend]()\n",
    "plt[:show]()"
   ]
  },
  {
   "cell_type": "code",
   "execution_count": null,
   "metadata": {},
   "outputs": [],
   "source": [
    "# sampling from random initial condition\n",
    "s_v,_,_,_ = sampling(rbm,rand(rbm.Nv,5000);t_max=500)\n",
    "# sampling starting from the dataset\n",
    "s_v_X,_,_,_ = sampling(rbm,X;t_max=500)\n",
    "# sampling starting from the persistent chain\n",
    "s_v_pc,_,_,_ = sampling(rbm,X;t_max=500)"
   ]
  },
  {
   "cell_type": "code",
   "execution_count": null,
   "metadata": {},
   "outputs": [],
   "source": [
    "# computing the mean-field fixed-point from the persistent-chain\n",
    "m_v_pc,_ = meanFieldIte(rbm,s_v_pc,t_max=200)"
   ]
  },
  {
   "cell_type": "code",
   "execution_count": null,
   "metadata": {},
   "outputs": [],
   "source": [
    "# computing various spectrum\n",
    "ux,sx,vx = svd(X/sqrt(size(X,2)))\n",
    "u1,s1,v1 = svd(s_v/sqrt(5000))\n",
    "u2,s2,v2 = svd(s_v_X/sqrt(size(X,2)))\n",
    "u3,s3,v3 = svd(s_v_pc/sqrt(size(s_v_pc,2)))\n",
    "uu,ss,vv = svd(rbm.W)"
   ]
  },
  {
   "cell_type": "code",
   "execution_count": null,
   "metadata": {},
   "outputs": [],
   "source": [
    "# comparing the spectrum\n",
    "xr = collect(1:1:size(sx,1))\n",
    "plt[:loglog](xr[1:20],sx[1:20],label=\"data\")\n",
    "plt[:loglog](xr[1:20],s1[1:20],label=\"rdm-start\")\n",
    "plt[:loglog](xr[1:20],s2[1:20],label=\"data-start\")\n",
    "plt[:loglog](xr[1:20],s3[1:20],label=\"pc-start\")\n",
    "plt[:legend]()"
   ]
  },
  {
   "cell_type": "code",
   "execution_count": null,
   "metadata": {},
   "outputs": [],
   "source": [
    "# scatter on the SVD of W\n",
    "scX = X'*vv;\n",
    "scG = s_v'*vv;\n",
    "scXG = s_v_X'*vv\n",
    "scPC = rbm.p_contdiv'*vv;\n",
    "scPC_fp = m_v_pc'*vv;"
   ]
  },
  {
   "cell_type": "code",
   "execution_count": null,
   "metadata": {},
   "outputs": [],
   "source": [
    "f,ax = subplots(3,3,figsize=(15,10))\n",
    "ax[1,1][:hist2d](scX[:,1],scX[:,2],bins=50)\n",
    "ax[1,2][:hist2d](scG[:,1],scG[:,2],bins=50)\n",
    "ax[1,3][:hist2d](scXG[:,1],scXG[:,2],bins=50)\n",
    "ax[1,1][:scatter](scPC[:,1],scPC[:,2],color=\"red\", s=2)\n",
    "ax[1,2][:scatter](scPC[:,1],scPC[:,2],color=\"red\", s=2)\n",
    "ax[1,3][:scatter](scPC[:,1],scPC[:,2],color=\"red\", s=2)\n",
    "ax[1,1][:scatter](scPC_fp[:,1],scPC_fp[:,2],color=\"green\", s=10)\n",
    "ax[1,2][:scatter](scPC_fp[:,1],scPC_fp[:,2],color=\"green\", s=10)\n",
    "ax[1,3][:scatter](scPC_fp[:,1],scPC_fp[:,2],color=\"green\", s=10)\n",
    "ax[2,1][:hist2d](scX[:,3],scX[:,4],bins=50)\n",
    "ax[2,2][:hist2d](scG[:,3],scG[:,4],bins=50)\n",
    "ax[2,3][:hist2d](scXG[:,3],scXG[:,4],bins=50)\n",
    "ax[2,1][:scatter](scPC[:,3],scPC[:,4],color=\"red\", s=2)\n",
    "ax[2,2][:scatter](scPC[:,3],scPC[:,4],color=\"red\", s=2)\n",
    "ax[2,3][:scatter](scPC[:,3],scPC[:,4],color=\"red\", s=2)\n",
    "ax[2,1][:scatter](scPC_fp[:,3],scPC_fp[:,4],color=\"green\", s=10)\n",
    "ax[2,2][:scatter](scPC_fp[:,3],scPC_fp[:,4],color=\"green\", s=10)\n",
    "ax[2,3][:scatter](scPC_fp[:,3],scPC_fp[:,4],color=\"green\", s=10)\n",
    "ax[3,1][:hist2d](scX[:,5],scX[:,6],bins=50)\n",
    "ax[3,2][:hist2d](scG[:,5],scG[:,6],bins=50)\n",
    "ax[3,3][:hist2d](scXG[:,5],scXG[:,6],bins=50)\n",
    "ax[3,1][:scatter](scPC[:,5],scPC[:,6],color=\"red\", s=2)\n",
    "ax[3,2][:scatter](scPC[:,5],scPC[:,6],color=\"red\", s=2)\n",
    "ax[3,3][:scatter](scPC[:,5],scPC[:,6],color=\"red\", s=2)\n",
    "ax[3,1][:scatter](scPC_fp[:,5],scPC_fp[:,6],color=\"green\", s=10)\n",
    "ax[3,2][:scatter](scPC_fp[:,5],scPC_fp[:,6],color=\"green\", s=10)\n",
    "ax[3,3][:scatter](scPC_fp[:,5],scPC_fp[:,6],color=\"green\", s=10)"
   ]
  },
  {
   "cell_type": "code",
   "execution_count": null,
   "metadata": {},
   "outputs": [],
   "source": [
    "# overlap matrix between the dataset and generated data\n",
    "plt[:figure](figsize=(10,10))\n",
    "plt[:imshow]((2*X .- 1)'*(2*s_v_X .- 1) / 805)\n",
    "plt[:colorbar]()"
   ]
  },
  {
   "cell_type": "code",
   "execution_count": null,
   "metadata": {},
   "outputs": [],
   "source": [
    "# following trajectories\n",
    "t_max=500\n",
    "Δt = 10\n",
    "n_traj = 5\n",
    "s_v_t = rand(rbm.Nv,n_traj)\n",
    "s_all = zeros(t_max+1,rbm.Nv,n_traj)\n",
    "s_all[1,:,:] .= s_v_t\n",
    "for t=1:t_max\n",
    "    s_v_t,_,_,_ = sampling(rbm,s_v_t;t_max=Δt)\n",
    "    s_all[1+t,:,:] .= s_v_t\n",
    "end"
   ]
  },
  {
   "cell_type": "code",
   "execution_count": null,
   "metadata": {},
   "outputs": [],
   "source": [
    "sc_all = []\n",
    "for nt=1:n_traj\n",
    "    push!(sc_all,s_all[:,:,nt]*vv)\n",
    "end"
   ]
  },
  {
   "cell_type": "code",
   "execution_count": null,
   "metadata": {},
   "outputs": [],
   "source": [
    "# plot the trajectories above the histogram\n",
    "f,ax = plt[:subplots](2,1,figsize=(10,15))\n",
    "ax[1][:hist2d](scX[:,1],scX[:,2],bins=50)\n",
    "for nt=1:n_traj\n",
    "    ax[1][:scatter](sc_all[nt][:,1],sc_all[nt][:,2],s=2)\n",
    "end\n",
    "\n",
    "ax[2][:hist2d](scX[:,3],scX[:,4],bins=50)\n",
    "for nt=1:n_traj\n",
    "    ax[2][:scatter](sc_all[nt][:,3],sc_all[nt][:,4],s=2)\n",
    "end\n"
   ]
  },
  {
   "cell_type": "code",
   "execution_count": null,
   "metadata": {},
   "outputs": [],
   "source": []
  }
 ],
 "metadata": {
  "kernelspec": {
   "display_name": "Julia 1.0.1",
   "language": "julia",
   "name": "julia-1.0"
  },
  "language_info": {
   "file_extension": ".jl",
   "mimetype": "application/julia",
   "name": "julia",
   "version": "1.0.1"
  }
 },
 "nbformat": 4,
 "nbformat_minor": 4
}
