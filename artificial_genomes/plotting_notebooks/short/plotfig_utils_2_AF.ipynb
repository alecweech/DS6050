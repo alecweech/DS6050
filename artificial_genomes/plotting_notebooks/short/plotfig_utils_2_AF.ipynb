{
 "cells": [
  {
   "cell_type": "code",
   "execution_count": null,
   "metadata": {},
   "outputs": [],
   "source": [
    "import numpy as np \n",
    "import matplotlib.pyplot as plt\n",
    "import seaborn as sns\n",
    "import plot_utils as plu"
   ]
  },
  {
   "cell_type": "markdown",
   "metadata": {},
   "source": [
    "#### Various Checks about allelic frequencies"
   ]
  },
  {
   "cell_type": "code",
   "execution_count": null,
   "metadata": {},
   "outputs": [],
   "source": [
    "print(\"* Plotting allele frequency characteristics...\")"
   ]
  },
  {
   "cell_type": "code",
   "execution_count": null,
   "metadata": {},
   "outputs": [],
   "source": [
    "# Not useful in general, only for ill behaviour of certain models\n",
    "if matching_SNPs:\n",
    "#    plt.figure(figsize=(15,5*len(infiles.keys())))\n",
    "    l,c = len(infiles.keys())-1,2\n",
    "    plt.figure(figsize=(figwi*c/4,figwi*l/4))\n",
    "    win = 1\n",
    "    for i,cat in enumerate(infiles.keys()): #['GAN','RBM']):\n",
    "        if cat=='Real': continue\n",
    "        plt.subplot(l,c,win)\n",
    "        win += 1\n",
    "        plt.plot(ac_scaled['Real'][(ac_d[cat]==0)], alpha=1, marker='.', lw=0)\n",
    "        plt.ylabel(\"Allele frequency in Real\")\n",
    "        plt.title(\"Real frequency of alleles \\n absent from {}\".format(cat))\n",
    "        plt.subplot(l,c,win)\n",
    "        win += 1\n",
    "        plt.hist(ac_scaled['Real'][(ac_d[cat]==0)],alpha=1)\n",
    "        plt.title(\"Hist real freq of alleles \\n absent from {}\".format(cat))\n",
    "    plt.tight_layout()\n",
    "    plt.savefig(outDir+\"RealAC_for_0fixed_sites.pdf\")"
   ]
  },
  {
   "cell_type": "code",
   "execution_count": null,
   "metadata": {},
   "outputs": [],
   "source": [
    "# Plotting Allele frequencies in Generated vs Real\n",
    "# below a certain real frequency (here set to 0.2 ie 20%)\n",
    "if matching_SNPs:\n",
    "    l,c = np.ceil(len(ac_scaled)/3),3\n",
    "    #plt.figure(figsize=(15,10))\n",
    "    plt.figure(figsize=(figwi,figwi*l/c))\n",
    "    #plt.figure(figsize=(figwi, figwi/len(ac_scaled)))\n",
    "    maf = 0.2\n",
    "    keep = (ac_scaled['Real'] <= maf)\n",
    "    for i, (cat, val) in enumerate(ac_scaled.items()):\n",
    "        ax = plt.subplot(l,c,i+1)\n",
    "        plu.plotreg(x=ac_scaled['Real'][keep], y=val[keep], \n",
    "                    keys=['Real',cat], statname=\"Allele frequency\", \n",
    "                    col=colpal[cat], ax=ax)\n",
    "        plt.title(f'{cat} vs Real')\n",
    "    plt.suptitle(f'AF below {maf} in Real')\n",
    "    plt.tight_layout()\n",
    "    plt.savefig(outDir + 'AC_generated_vs_Real_zoom.pdf')"
   ]
  },
  {
   "cell_type": "code",
   "execution_count": null,
   "metadata": {},
   "outputs": [],
   "source": [
    "# Plotting Allele frequencies in Generated vs Real\n",
    "if matching_SNPs:\n",
    "    l,c=np.ceil(len(ac_scaled)/3),3\n",
    "    #plt.figure(figsize=(15,10))\n",
    "    plt.figure(figsize=(figwi,figwi*l/c))\n",
    "    #plt.figure(figsize=(figwi, figwi/len(ac_scaled)))\n",
    "    #l,c=1,len(ac_scaled) \n",
    "    for i, (cat, val) in enumerate(ac_scaled.items()):\n",
    "        ax = plt.subplot(l,3,i+1)\n",
    "        plu.plotreg(x=ac_scaled['Real'], y=val, \n",
    "                    keys=['Real',cat], statname=\"Allele frequency\", \n",
    "                    col=colpal[cat], ax=ax)\n",
    "        plt.title(f'Allele Frequencies {cat} vs Real')\n",
    "    plt.tight_layout()\n",
    "    plt.savefig(outDir + 'AC_generated_vs_Real.pdf')"
   ]
  },
  {
   "cell_type": "code",
   "execution_count": null,
   "metadata": {},
   "outputs": [],
   "source": [
    "# Plotting quantiles of Allele frequency distributions in Generated vs Real\n",
    "# Particularly useful if there is no one-to-one correspondence between SNPs (ie if matching_SNPs is False)\n",
    "# But computable in all case\n",
    "l,c=np.ceil(len(ac_scaled)/3),3\n",
    "#plt.figure(figsize=(15,10))\n",
    "plt.figure(figsize=(figwi,figwi*l/c))\n",
    "real = ac_scaled['Real']\n",
    "for i, (cat, val) in enumerate(ac_scaled.items()):\n",
    "    ax = plt.subplot(l,c,i+1)\n",
    "    plu.plotregquant(x=real, y=val, \n",
    "                     keys=['Real',cat], statname=\"Allele frequency\", \n",
    "                     cumsum=False, step=0.05, \n",
    "                     col=colpal[cat], \n",
    "                     ax=ax)\n",
    "plt.tight_layout()\n",
    "plt.savefig(outDir + 'AC_quantiles_generated_vs_Real.pdf')"
   ]
  },
  {
   "cell_type": "code",
   "execution_count": null,
   "metadata": {},
   "outputs": [],
   "source": [
    "# Recomputing counts for major/minor encoding\n",
    "# No effect if the datset was already encoded as minor\n",
    "ac_minor=dict()\n",
    "for key, ac in ac_scaled.items():\n",
    "    ac_minor[key] = np.minimum(ac, 1-ac)"
   ]
  },
  {
   "cell_type": "code",
   "execution_count": null,
   "metadata": {},
   "outputs": [],
   "source": [
    "# Density estimation for the allele frequency distrib\n",
    "for i,cat in enumerate(categ):\n",
    "    sns.kdeplot(ac_scaled[cat], cut=0, \n",
    "                label= \"{} fixed SNPs in {}\".format( is_fixed_dic[cat].sum(),cat), \n",
    "                lw=3, alpha=.65)\n",
    "#plt.yscale('log')\n",
    "plt.xlabel(\"Allele freq\")\n",
    "plt.savefig(outDir + \"Allele_freq_densities.pdf\")"
   ]
  },
  {
   "cell_type": "code",
   "execution_count": null,
   "metadata": {},
   "outputs": [],
   "source": [
    "# Density estimation for the allele frequency distrib after major/minor recoding\n",
    "for i,cat in enumerate(categ):\n",
    "    sns.kdeplot(ac_minor[cat], cut=0, \n",
    "                label= \"{} fixed SNPs in {}\".format(is_fixed_dic[cat].sum(),cat), \n",
    "                lw=3, alpha=.65)\n",
    "#plt.yscale('log')\n",
    "plt.xlabel(\"Allele freq\")\n",
    "plt.savefig(outDir + \"Minor_allele_freq_densities.pdf\")"
   ]
  },
  {
   "cell_type": "code",
   "execution_count": null,
   "metadata": {},
   "outputs": [],
   "source": [
    "# Cumulative density estimation for the allele frequency distrib\n",
    "for i,cat in enumerate(categ):\n",
    "    sns.kdeplot(ac_scaled[cat], cut=0, cumulative=True, \n",
    "                label= \"{} fixed SNPs in {}\".format(is_fixed_dic[cat].sum(),cat), \n",
    "                lw=3, alpha=.65)\n",
    "#plt.yscale('log')\n",
    "#plt.xscale('log')\n",
    "plt.xlabel(\"Allele freq\")\n",
    "plt.savefig(outDir + \"Allele_freq_densities_cumulative.pdf\")"
   ]
  },
  {
   "cell_type": "code",
   "execution_count": null,
   "metadata": {},
   "outputs": [],
   "source": [
    "# Cumulative density estimation for the allele frequency distrib after major/minor recoding\n",
    "for i,cat in enumerate(categ):\n",
    "    sns.kdeplot(ac_minor[cat], cut=0, cumulative=True, \n",
    "                label= \"{} fixed SNPs in {}\".format(is_fixed_dic[cat].sum(),cat), \n",
    "                lw=3, alpha=.65)\n",
    "#plt.yscale('log')\n",
    "#plt.xscale('log')\n",
    "plt.xlabel(\"Minor allele freq\")\n",
    "plt.savefig(outDir + \"Minor_allele_freq_densities_cumulative.pdf\")"
   ]
  },
  {
   "cell_type": "code",
   "execution_count": null,
   "metadata": {},
   "outputs": [],
   "source": [
    "print('*************************************************************\\n*** Computation and plotting Allele Frequencies DONE. Figures saved in {} ***\\n*************************************************************'.format(outDir))"
   ]
  },
  {
   "cell_type": "code",
   "execution_count": null,
   "metadata": {},
   "outputs": [],
   "source": []
  }
 ],
 "metadata": {
  "kernelspec": {
   "display_name": "Python 3",
   "language": "python",
   "name": "python3"
  },
  "language_info": {
   "codemirror_mode": {
    "name": "ipython",
    "version": 3
   },
   "file_extension": ".py",
   "mimetype": "text/x-python",
   "name": "python",
   "nbconvert_exporter": "python",
   "pygments_lexer": "ipython3",
   "version": "3.7.6"
  },
  "toc-autonumbering": false,
  "toc-showmarkdowntxt": false
 },
 "nbformat": 4,
 "nbformat_minor": 2
}
