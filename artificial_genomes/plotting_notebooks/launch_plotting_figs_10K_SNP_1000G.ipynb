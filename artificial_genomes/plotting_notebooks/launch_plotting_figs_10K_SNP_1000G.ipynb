{
 "cells": [
  {
   "cell_type": "markdown",
   "metadata": {},
   "source": [
    "## 1. Execute one of the following cell to pick AGs results to be plotted"
   ]
  },
  {
   "cell_type": "markdown",
   "metadata": {},
   "source": [
    "### Specify \n",
    "- datasets that should be loaded, and the label you want to assign to them (eg GAN, GAN_versionXX ...)\n",
    "- output directory name (will be created if needed)\n",
    "- SNP position file(s)  \n",
    "- number of individuals to keep from each dataset (will be randomly subampled if less than the total number)"
   ]
  },
  {
   "cell_type": "code",
   "execution_count": null,
   "metadata": {},
   "outputs": [],
   "source": [
    "outDir = \"FIG/TEST/FIG_10K/\"\n",
    "# number of individuals to keep (for each dataset)\n",
    "# can be set to a small number to run some tests\n",
    "# nsub = 5000 for the full dataset\n",
    "nsub = 100 \n",
    "infileDir = \"../\"\n",
    "# The key name can be changed appart from the Real one, that is mandatory\n",
    "infiles = {'Real': infileDir + \"1000G_real_genomes/10K_SNP_1000G_real.hapt.zip\",\n",
    "           'GAN': infileDir + \"GAN_AGs/10K_SNP_GAN_AG_10800Epochs.hapt.zip\",\n",
    "           'RBM': infileDir + \"RBM_AGs/10K_SNP_RBM_AG_1050epochs.hapt.zip\",\n",
    "          }\n",
    "realposfname = infileDir + \"1000G_real_genomes/10k_SNP.legend\"\n",
    "# same SNP positions for all datasets, so it is just repeated for all keys:\n",
    "position_fname = {key:realposfname for key in infiles.keys()} \n",
    "# if needed, update the position file for some key (that exists in infiles):\n",
    "# position_fname['stdpopsim'] = infileDir + \"stdpop_genomes/CEU_chr15_matching_10k.legend\""
   ]
  },
  {
   "cell_type": "markdown",
   "metadata": {},
   "source": [
    "## 2. Imports and general color dictionary"
   ]
  },
  {
   "cell_type": "code",
   "execution_count": null,
   "metadata": {},
   "outputs": [],
   "source": [
    "dirscript = 'short'\n",
    "from short import plot_utils as plu"
   ]
  },
  {
   "cell_type": "code",
   "execution_count": null,
   "metadata": {},
   "outputs": [],
   "source": [
    "import seaborn as sns\n",
    "import pandas as pd\n",
    "import numpy as np\n",
    "import importlib\n",
    "from short import plot_utils as plu\n",
    "import os"
   ]
  },
  {
   "cell_type": "code",
   "execution_count": null,
   "metadata": {},
   "outputs": [],
   "source": [
    "inDir = \"\"\n",
    "mainOutDir = outDir\n",
    "# General colors\n",
    "# if you add a new key in infiles, you should add a corresponding color in the following dictionnary\n",
    "# leaving examples for extra labels below on purpose \n",
    "allcolpal = dict({'Real':\"#95a5a6\", \n",
    "                  'Binomial':\"#2ecc71\", 'Markov_w5':'#6a3d9a', 'Markov_w10':\"#9b59b6\", \n",
    "                  'GAN':\"#3498db\", 'GAN_ep20k':\"#3498db\", # blue main GANs (you can choose the same color for multiple labels if you wish)\n",
    "                  'GAN_ep5k':'#0b559f', # dark blue SM GAN 805\n",
    "                  'RBM':\"#e74c3c\", 'RBM_bis': \"#e74c3c\", # red MAIN RBMs\n",
    "                  'RBM_SIG1': '#fa9b58', 'RBM_SIG2': '#fece7f', # orange SM RBMs chunk\n",
    "                  'Test1':'#575757', 'Test2':'#393939',\n",
    "                  'HAPGEN': '#458B74',\n",
    "                  'stdpopsim': '#fa9b58',\n",
    "                  'RBM_init_random':'salmon', #sns.color_palette('Reds_r',14)[0], \n",
    "                  'RBM_init_test': 'sienna', #sns.color_palette('Reds_r',14)[1],\n",
    "                  'RBM_init_train': 'darkorange' #sns.color_palette('Reds_r',14)[2], \n",
    "              })\n",
    "## Print the full color palette if needed:\n",
    "# print(allcolpal.keys())\n",
    "# sns.palplot(sns.color_palette(allcolpal.values()))\n",
    "\n",
    "# Colors for RBMs at different epochs\n",
    "RBM_labels = ['RBM_ep{}'.format(ep) for ep in np.concatenate( [np.linspace(200,650,10).astype(int), [690]])]\n",
    "allcolpal.update(dict(zip(RBM_labels, sns.color_palette('Reds_r',len(RBM_labels)+3))))\n",
    "\n",
    "#print(allcolpal.keys())\n",
    "#sns.palplot(sns.color_palette(allcolpal.values()))\n",
    "\n",
    "# Update current color palette to the dataset type in infiles \n",
    "colpal =  {key:allcolpal[key] for key in infiles.keys()}\n",
    "sns.set_palette(colpal.values())\n",
    "\n",
    "print(\"Datasets under study:\\n\",infiles)\n",
    "sns.palplot(sns.color_palette())\n",
    "print(f\"Output Directory for figures: {outDir}\\n\",\n",
    "      f\"Real dataset positions: {realposfname}\\n\",\n",
    "      f\"Sample size:{nsub}\")\n"
   ]
  },
  {
   "cell_type": "markdown",
   "metadata": {},
   "source": [
    "## 3. run notebook to plot all figures or a subset of sumstats (for faster results)"
   ]
  },
  {
   "cell_type": "code",
   "execution_count": null,
   "metadata": {},
   "outputs": [],
   "source": [
    "f\"Figures will be saved in {mainOutDir} or its subdirectories\""
   ]
  },
  {
   "cell_type": "code",
   "execution_count": null,
   "metadata": {},
   "outputs": [],
   "source": [
    "## Print one more time the name of datasets that will be loaded\n",
    "## the path should exist otherwise you need to check that your setup is correct\n",
    "[f\"Input file {f} exists: {os.path.exists(f)}\" for f in infiles.values()]"
   ]
  },
  {
   "cell_type": "code",
   "execution_count": null,
   "metadata": {},
   "outputs": [],
   "source": [
    "# Setup options (transformations, sumstats to compute etc) and output directory (automatically derived from maintOutDir)\n",
    "\n",
    "importlib.reload(plu) # useful only if plot_utils is changed since you imported it for dev reason\n",
    "boolComputeAATS = True # if False notebook 5 will reload previously computed AATS instead of computing it\n",
    "figwi = 12 # control size of some figures \n",
    "\n",
    "# set allchecks to False for a first rapid scan\n",
    "# set to True for computing/plotting all sumstats and scores (long, better on a cluster)\n",
    "allchecks = True #False \n",
    "\n",
    "# pick the transformations you want to apply to the datasets\n",
    "# For no transformation choose \n",
    "# transformations=None\n",
    "transformations={'to_minor_encoding':False, 'min_af': 0, 'max_af': 1}\n",
    "\n",
    "if not transformations is None:\n",
    "    tname=';'.join([f'{k}-{v}' for k,v in transformations.items()])\n",
    "    outDir = os.path.join(mainOutDir,tname+'/')\n",
    "print(f\"Figures will be saved in {outDir}\")\n",
    "if os.path.exists(outDir):\n",
    "    print('This directory exists, the following files might be overwritten:')\n",
    "    print(os.listdir(outDir))"
   ]
  },
  {
   "cell_type": "markdown",
   "metadata": {},
   "source": [
    "### Compute summary statistics\n",
    "**You can pick which notebooks to execute** (and comment the other lines)    \n",
    "Only the **first one is mandatory**  (plotfig_utils_1_INIT.ipynb)  \n",
    "It loads datasets, applies basic transformations if asked, and initializes a few variables (such as a dictionnary of haplotypes, allele counts, fixed site vectors, etc)"
   ]
  },
  {
   "cell_type": "code",
   "execution_count": null,
   "metadata": {},
   "outputs": [],
   "source": [
    "%run -p {dirscript}/plotfig_utils_1_INIT.ipynb  # mandatory, all lines below are optional\n",
    "%run -p {dirscript}/plotfig_utils_2_AF.ipynb \n",
    "%run -p {dirscript}/plotfig_utils_3_PCA.ipynb\n",
    "%run -p {dirscript}/plotfig_utils_4_LD.ipynb\n",
    "if allchecks:\n",
    "    %run -p {dirscript}/plotfig_utils_5_DIST_AATS.ipynb # computationnally long\n",
    "if allchecks:\n",
    "    %run -p {dirscript}/plotfig_utils_6_3pointcorr.ipynb  # computationnally long"
   ]
  },
  {
   "cell_type": "code",
   "execution_count": null,
   "metadata": {},
   "outputs": [],
   "source": []
  }
 ],
 "metadata": {
  "kernelspec": {
   "display_name": "DEV",
   "language": "python",
   "name": "dev"
  },
  "language_info": {
   "codemirror_mode": {
    "name": "ipython",
    "version": 3
   },
   "file_extension": ".py",
   "mimetype": "text/x-python",
   "name": "python",
   "nbconvert_exporter": "python",
   "pygments_lexer": "ipython3",
   "version": "3.7.3"
  }
 },
 "nbformat": 4,
 "nbformat_minor": 4
}
